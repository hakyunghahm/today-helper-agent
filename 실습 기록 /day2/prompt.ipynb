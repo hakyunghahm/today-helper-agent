{
 "cells": [
  {
   "cell_type": "code",
   "execution_count": 1,
   "metadata": {},
   "outputs": [],
   "source": [
    "from openai import OpenAI\n",
    "from dotenv import load_dotenv\n",
    "import os\n",
    "\n",
    "# 환경변수 로드 (.env 파일에서 OPENAI_API_KEY 불러오기)\n",
    "load_dotenv()\n",
    "client = OpenAI(api_key=os.getenv(\"OPENAI_API_KEY\"))\n"
   ]
  },
  {
   "cell_type": "code",
   "execution_count": 2,
   "metadata": {},
   "outputs": [],
   "source": [
    "def run_experiment(system_prompt, user_prompt):\n",
    "    response = client.chat.completions.create(  # GPT한테 채팅 형식으로 요청 보내는 함수\n",
    "        model=\"gpt-3.5-turbo\",\n",
    "        messages=[ # 대화 시나리오 구성\n",
    "            {\"role\": \"system\", \"content\": system_prompt}, \n",
    "            {\"role\": \"user\", \"content\": user_prompt}\n",
    "        ]\n",
    "    )\n",
    "    return response.choices[0].message.content\n"
   ]
  },
  {
   "cell_type": "code",
   "execution_count": 3,
   "metadata": {},
   "outputs": [
    {
     "name": "stdout",
     "output_type": "stream",
     "text": [
      "--- 실험: 일반 도우미 ---\n",
      "1. 회의 참석 (2개)\n",
      "2. 과제 완료하기\n",
      "\n",
      "\n",
      "--- 실험: JSON 파서 ---\n",
      "[\n",
      "    {\n",
      "        \"task\": \"회의\",\n",
      "        \"count\": 2\n",
      "    },\n",
      "    {\n",
      "        \"task\": \"과제\",\n",
      "        \"count\": 1\n",
      "    }\n",
      "]\n",
      "\n",
      "\n",
      "--- 실험: 요약 챗봇 ---\n",
      "오늘은 회의 2개와 과제 1개를 해야 해요.\n",
      "\n",
      "\n"
     ]
    }
   ],
   "source": [
    "# 고정 사용자 입력\n",
    "user_prompt = \"오늘 회의 2개, 과제 하나 해야 돼\"\n",
    "\n",
    "# 실험할 system prompt 세트\n",
    "system_prompts = {\n",
    "    \"일반 도우미\": \"당신은 친절한 일정 도우미입니다. 사용자의 문장에서 오늘 해야 할 일의 리스트를 뽑아 정리해 주세요.\",\n",
    "    \"JSON 파서\": \"당신은 JSON을 출력하는 파서입니다. 사용자 입력을 보고 task와 count 키를 가진 객체 리스트로 변환하세요. 불필요한 문장은 출력하지 마세요.\",\n",
    "    \"요약 챗봇\": \"당신은 캐주얼한 스타일의 일정 요약 챗봇입니다. 사용자가 해야 할 일을 간단히 문장으로 정리해 주세요.\"\n",
    "}\n",
    "\n",
    "# propmpt들을 하나씩 꺼내서 돌리는 반복문 \n",
    "for name, sys_prompt in system_prompts.items():\n",
    "    print(f\"--- 실험: {name} ---\")\n",
    "    result = run_experiment(sys_prompt, user_prompt)\n",
    "    print(result)\n",
    "    print(\"\\n\")"
   ]
  }
 ],
 "metadata": {
  "kernelspec": {
   "display_name": "Python 3",
   "language": "python",
   "name": "python3"
  },
  "language_info": {
   "codemirror_mode": {
    "name": "ipython",
    "version": 3
   },
   "file_extension": ".py",
   "mimetype": "text/x-python",
   "name": "python",
   "nbconvert_exporter": "python",
   "pygments_lexer": "ipython3",
   "version": "3.13.5"
  }
 },
 "nbformat": 4,
 "nbformat_minor": 2
}
